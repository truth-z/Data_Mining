{
 "cells": [
  {
   "cell_type": "markdown",
   "metadata": {},
   "source": [
    "数据探索性分析与数据预处理\n",
    "\n",
    "姓名：曾颖波\n",
    "\n",
    "学号：3120230950\n",
    "\n",
    "学院：计算机学院\n",
    "\n",
    "\n",
    "1 对GitHub Dataset的版本一数据集进行处理\n",
    "\n",
    "1.1 数据摘要和可视化\n",
    "\n",
    "1.1.1数据摘要\n",
    "\n",
    "（1）标称属性： 标称属性，给出每个可能取值的频数，包括repositories项目仓库名称、language编程语言"
   ]
  },
  {
   "cell_type": "code",
   "execution_count": 1,
   "metadata": {},
   "outputs": [
    {
     "name": "stdout",
     "output_type": "stream",
     "text": [
      "repositories 的频数：\n",
      "kameshsampath/ansible-role-rosa-demos         2\n",
      "aloisdeniel/bluff                             2\n",
      "antoniaandreou/github-slideshow               2\n",
      "jgthms/bulma-start                            2\n",
      "artkirienko/hlds-docker-dproto                2\n",
      "                                             ..\n",
      "WhiteHouse/CIOmanagement                      1\n",
      "0xCaso/defillama-telegram-bot                 1\n",
      "ethereum/blake2b-py                           1\n",
      "openfoodfacts/folksonomy_mobile_experiment    1\n",
      "gamemann/All_PropHealth                       1\n",
      "Name: repositories, Length: 972, dtype: int64 \n",
      "\n",
      "language 的频数：\n",
      "JavaScript          253\n",
      "Python              155\n",
      "HTML                 72\n",
      "Java                 44\n",
      "CSS                  37\n",
      "TypeScript           37\n",
      "Dart                 36\n",
      "C++                  29\n",
      "Jupyter Notebook     29\n",
      "Ruby                 28\n",
      "C                    26\n",
      "Shell                25\n",
      "PHP                  16\n",
      "Go                   15\n",
      "Rust                 10\n",
      "Swift                10\n",
      "C#                    8\n",
      "Objective-C           8\n",
      "Kotlin                7\n",
      "Makefile              6\n",
      "Jinja                 5\n",
      "SCSS                  4\n",
      "CoffeeScript          3\n",
      "Perl                  3\n",
      "Dockerfile            3\n",
      "Solidity              3\n",
      "AutoHotkey            3\n",
      "Hack                  2\n",
      "Pawn                  2\n",
      "CodeQL                2\n",
      "PowerShell            2\n",
      "Assembly              2\n",
      "Vim Script            2\n",
      "Vue                   2\n",
      "Elixir                2\n",
      "Gherkin               1\n",
      "QMake                 1\n",
      "CMake                 1\n",
      "Oz                    1\n",
      "Cuda                  1\n",
      "QML                   1\n",
      "ActionScript          1\n",
      "Roff                  1\n",
      "HCL                   1\n",
      "R                     1\n",
      "PureBasic             1\n",
      "Smarty                1\n",
      "Less                  1\n",
      "Svelte                1\n",
      "Haskell               1\n",
      "SourcePawn            1\n",
      "Name: language, dtype: int64 \n",
      "\n"
     ]
    }
   ],
   "source": [
    "import numpy as np\n",
    "import pandas as pd\n",
    "from pandas import DataFrame\n",
    "\n",
    "def loader():   #读取数据\n",
    "    filepath =\"./datasets/GitHubDataset/github_dataset.csv\" #使用的数据集文件地址\n",
    "    df = pd.read_csv(filepath, header=0)\n",
    "    return df\n",
    "\n",
    "def count(str,data): #输出标称数据频数\n",
    "    return data[str].value_counts()\n",
    "\n",
    "df = loader()\n",
    "nominal_attribute_list = [\"repositories\", \"language\"]\n",
    "\n",
    "for attribute in nominal_attribute_list:\n",
    "    print(attribute, \"的频数：\")\n",
    "    print(count(attribute, df), \"\\n\")"
   ]
  },
  {
   "cell_type": "markdown",
   "metadata": {},
   "source": [
    "从输出结果可以看出两个结论：\n",
    "\n",
    "·repositories项目名称存在多个重复项目\n",
    "\n",
    "·language编程语言使用频率前三依次是JavaScript,Python,HTML"
   ]
  },
  {
   "cell_type": "markdown",
   "metadata": {},
   "source": [
    "(2)数值属性：数值属性，给出5数概括及缺失值的个数，包括stars_count标星数量, forks_count, issues_count, pull_requests, contributors贡献者人数"
   ]
  },
  {
   "cell_type": "code",
   "execution_count": 2,
   "metadata": {},
   "outputs": [
    {
     "name": "stdout",
     "output_type": "stream",
     "text": [
      "stars_count :\n",
      "缺省值null个数:0\n",
      "Minimum: 0\n",
      "Q1: 1.0\n",
      "Median: 12.0\n",
      "Q3: 65.25\n",
      "Maximum: 995\n",
      "None \n",
      "\n",
      "forks_count :\n",
      "缺省值null个数:0\n",
      "Minimum: 0\n",
      "Q1: 1.0\n",
      "Median: 6.0\n",
      "Q3: 38.25\n",
      "Maximum: 973\n",
      "None \n",
      "\n",
      "issues_count :\n",
      "缺省值null个数:0\n",
      "Minimum: 1\n",
      "Q1: 1.0\n",
      "Median: 2.0\n",
      "Q3: 6.0\n",
      "Maximum: 612\n",
      "None \n",
      "\n",
      "pull_requests :\n",
      "缺省值null个数:0\n",
      "Minimum: 0\n",
      "Q1: 0.0\n",
      "Median: 0.0\n",
      "Q3: 2.0\n",
      "Maximum: 567\n",
      "None \n",
      "\n",
      "contributors :\n",
      "缺省值null个数:0\n",
      "Minimum: 0\n",
      "Q1: 0.0\n",
      "Median: 2.0\n",
      "Q3: 4.0\n",
      "Maximum: 658\n",
      "None \n",
      "\n"
     ]
    }
   ],
   "source": [
    "def fiveNumberandnull(str,data): #输出数值数据5数概括及缺失值的个数\n",
    "    nums = data[str]\n",
    "\n",
    "    # 缺失值的个数\n",
    "    nullnum = nums.isnull().sum()\n",
    "    print(\"缺省值null个数:%d\"%(nullnum))\n",
    "\n",
    "    # 五数概括 Minimum（最小值）、Q1、Median（中位数、）、Q3、Maximum（最大值）\n",
    "    nums = nums.dropna(axis = 0) #删除NaN值\n",
    "    Minimum = min(nums)\n",
    "    Maximum = max(nums)\n",
    "    Q1 = np.percentile(nums, 25)\n",
    "    Median = np.median(nums)\n",
    "    Q3 = np.percentile(nums, 75)\n",
    "    print(\"Minimum:\", Minimum)\n",
    "    print(\"Q1:\", Q1)\n",
    "    print(\"Median:\", Median)\n",
    "    print(\"Q3:\", Q3)\n",
    "    print(\"Maximum:\",Maximum)\n",
    "\n",
    "numerical_attributes_list = [\"stars_count\", \"forks_count\", \"issues_count\", \"pull_requests\", \"contributors\"]\n",
    "\n",
    "for attribute in numerical_attributes_list:\n",
    "    print(attribute, \":\")\n",
    "    print(fiveNumberandnull(attribute, df), \"\\n\")"
   ]
  },
  {
   "cell_type": "markdown",
   "metadata": {},
   "source": [
    "从上面输出结果可以看出，stars_count标星数量、forks_count、issues_count、pull_requests、contributors贡献者人数都没有缺省值"
   ]
  },
  {
   "cell_type": "markdown",
   "metadata": {},
   "source": [
    "1.1.2 数据可视化\n",
    "\n",
    "使用直方图、盒图等检查数据分布及离群点"
   ]
  },
  {
   "cell_type": "code",
   "execution_count": 3,
   "metadata": {},
   "outputs": [
    {
     "name": "stdout",
     "output_type": "stream",
     "text": [
      "stars_count 的直方图、盒图：\n"
     ]
    },
    {
     "data": {
      "image/png": "[encoded data removed]",
      "text/plain": [
       "<Figure size 432x288 with 1 Axes>"
      ]
     },
     "metadata": {
      "needs_background": "light"
     },
     "output_type": "display_data"
    },
    {
     "data": {
      "image/png": "[encoded data removed]",
      "text/plain": [
       "<Figure size 432x288 with 1 Axes>"
      ]
     },
     "metadata": {
      "needs_background": "light"
     },
     "output_type": "display_data"
    },
    {
     "name": "stdout",
     "output_type": "stream",
     "text": [
      "forks_count 的直方图、盒图：\n"
     ]
    },
    {
     "data": {
      "image/png": "[encoded data removed]",
      "text/plain": [
       "<Figure size 432x288 with 1 Axes>"
      ]
     },
     "metadata": {
      "needs_background": "light"
     },
     "output_type": "display_data"
    },
    {
     "data": {
      "image/png": "[encoded data removed]",
      "text/plain": [
       "<Figure size 432x288 with 1 Axes>"
      ]
     },
     "metadata": {
      "needs_background": "light"
     },
     "output_type": "display_data"
    },
    {
     "name": "stdout",
     "output_type": "stream",
     "text": [
      "issues_count 的直方图、盒图：\n"
     ]
    },
    {
     "data": {
      "image/png": "[encoded data removed]",
      "text/plain": [
       "<Figure size 432x288 with 1 Axes>"
      ]
     },
     "metadata": {
      "needs_background": "light"
     },
     "output_type": "display_data"
    },
    {
     "data": {
      "image/png": "[encoded data removed]",
      "text/plain": [
       "<Figure size 432x288 with 1 Axes>"
      ]
     },
     "metadata": {
      "needs_background": "light"
     },
     "output_type": "display_data"
    },
    {
     "name": "stdout",
     "output_type": "stream",
     "text": [
      "pull_requests 的直方图、盒图：\n"
     ]
    },
    {
     "data": {
      "image/png": "[encoded data removed]",
      "text/plain": [
       "<Figure size 432x288 with 1 Axes>"
      ]
     },
     "metadata": {
      "needs_background": "light"
     },
     "output_type": "display_data"
    },
    {
     "data": {
      "image/png": "[encoded data removed]",
      "text/plain": [
       "<Figure size 432x288 with 1 Axes>"
      ]
     },
     "metadata": {
      "needs_background": "light"
     },
     "output_type": "display_data"
    },
    {
     "name": "stdout",
     "output_type": "stream",
     "text": [
      "contributors 的直方图、盒图：\n"
     ]
    },
    {
     "data": {
      "image/png": "[encoded data removed]",
      "text/plain": [
       "<Figure size 432x288 with 1 Axes>"
      ]
     },
     "metadata": {
      "needs_background": "light"
     },
     "output_type": "display_data"
    },
    {
     "data": {
      "image/png": "[encoded data removed]",
      "text/plain": [
       "<Figure size 432x288 with 1 Axes>"
      ]
     },
     "metadata": {
      "needs_background": "light"
     },
     "output_type": "display_data"
    }
   ],
   "source": [
    "import matplotlib.pyplot as plt\n",
    "\n",
    "numerical_attributes_list = [\"stars_count\", \"forks_count\", \"issues_count\", \"pull_requests\", \"contributors\"]\n",
    "for attribute in numerical_attributes_list:\n",
    "    print(attribute, \"的直方图、盒图：\")\n",
    "    plt.hist(df[attribute])\n",
    "    plt.xlabel(attribute)\n",
    "    plt.ylabel('Count')\n",
    "    plt.title('histogram')\n",
    "    plt.show()\n",
    "\n",
    "    plt.boxplot(df[attribute])\n",
    "    plt.xlabel(attribute)\n",
    "    plt.title('Box diagram')\n",
    "    plt.show()\n"
   ]
  },
  {
   "cell_type": "markdown",
   "metadata": {},
   "source": [
    "从上面输出可以看出：\n",
    "\n",
    "·stars_count标星数量大部分位于0-100，少量项目stars高于200\n",
    "\n",
    "·forks_count大部分位于0-100\n",
    "\n",
    "·issues_count大部分位于0-50\n",
    "\n",
    "·pull_requests大部分位于0-50\n",
    "\n",
    "·contributors贡献者人数大部分位于0-50"
   ]
  },
  {
   "cell_type": "markdown",
   "metadata": {},
   "source": [
    "1.2 数据缺失的处理\n",
    "\n",
    "观察数据集中缺失数据，分析其缺失的原因。分别使用下列四种策略对缺失值进行处理:\n",
    "\n",
    "·将缺失部分剔除\n",
    "\n",
    "·用最高频率值来填补缺失值\n",
    "\n",
    "\n",
    "注意：在处理后完成，要对比新旧数据集的差异。\n",
    "\n",
    "\n",
    "\n"
   ]
  },
  {
   "cell_type": "markdown",
   "metadata": {},
   "source": [
    "经过统计，在这个数据集中，只有编程语言language存在缺失数据的现象"
   ]
  },
  {
   "cell_type": "code",
   "execution_count": 4,
   "metadata": {},
   "outputs": [
    {
     "name": "stdout",
     "output_type": "stream",
     "text": [
      "编程语言language中的缺失值数量：  145 \n",
      "\n",
      "JavaScript          253\n",
      "Python              155\n",
      "HTML                 72\n",
      "Java                 44\n",
      "CSS                  37\n",
      "TypeScript           37\n",
      "Dart                 36\n",
      "C++                  29\n",
      "Jupyter Notebook     29\n",
      "Ruby                 28\n",
      "C                    26\n",
      "Shell                25\n",
      "PHP                  16\n",
      "Go                   15\n",
      "Rust                 10\n",
      "Swift                10\n",
      "C#                    8\n",
      "Objective-C           8\n",
      "Kotlin                7\n",
      "Makefile              6\n",
      "Jinja                 5\n",
      "SCSS                  4\n",
      "CoffeeScript          3\n",
      "Perl                  3\n",
      "Dockerfile            3\n",
      "Solidity              3\n",
      "AutoHotkey            3\n",
      "Hack                  2\n",
      "Pawn                  2\n",
      "CodeQL                2\n",
      "PowerShell            2\n",
      "Assembly              2\n",
      "Vim Script            2\n",
      "Vue                   2\n",
      "Elixir                2\n",
      "Gherkin               1\n",
      "QMake                 1\n",
      "CMake                 1\n",
      "Oz                    1\n",
      "Cuda                  1\n",
      "QML                   1\n",
      "ActionScript          1\n",
      "Roff                  1\n",
      "HCL                   1\n",
      "R                     1\n",
      "PureBasic             1\n",
      "Smarty                1\n",
      "Less                  1\n",
      "Svelte                1\n",
      "Haskell               1\n",
      "SourcePawn            1\n",
      "Name: language, dtype: int64\n"
     ]
    }
   ],
   "source": [
    "# 统计缺失值数量\n",
    "data = df['language']\n",
    "null_num = data.isnull().sum()\n",
    "print(\"编程语言language中的缺失值数量： \", null_num, \"\\n\")\n",
    "\n",
    "# 统计频数\n",
    "counts = data.value_counts()\n",
    "print(counts)"
   ]
  },
  {
   "cell_type": "markdown",
   "metadata": {},
   "source": [
    "处理方法一：将缺失部分剔除"
   ]
  },
  {
   "cell_type": "code",
   "execution_count": 5,
   "metadata": {},
   "outputs": [
    {
     "name": "stdout",
     "output_type": "stream",
     "text": [
      "处理方法一：将缺失部分剔除\n",
      "剔除缺失值前的数据集⼤⼩:  (1052,)\n",
      "剔除缺失值后的数据集⼤⼩:  (907,)\n",
      "将缺失部分剔除后缺失值统计： 0\n"
     ]
    }
   ],
   "source": [
    "#将缺失部分剔除；\n",
    "data_dele = data.dropna()\n",
    "print(\"处理方法一：将缺失部分剔除\")\n",
    "print(\"剔除缺失值前的数据集⼤⼩: \",data.shape)\n",
    "print(\"剔除缺失值后的数据集⼤⼩: \", data_dele.shape)\n",
    "print(\"剔除缺失值后缺失值统计：\", data_dele.isnull().sum())\n",
    "\n"
   ]
  },
  {
   "cell_type": "markdown",
   "metadata": {},
   "source": [
    "处理方法二：用最高频率值来填补缺失值"
   ]
  },
  {
   "cell_type": "code",
   "execution_count": 6,
   "metadata": {},
   "outputs": [
    {
     "name": "stdout",
     "output_type": "stream",
     "text": [
      "替换缺失值前的数据集⼤⼩:  (1052,)\n",
      "替换缺失值后的数据集⼤⼩:  (1052,)\n",
      "将缺失部分剔除后缺失值统计： 0 个\n",
      "替换缺失值前频数统计\n",
      " JavaScript          253\n",
      "Python              155\n",
      "HTML                 72\n",
      "Java                 44\n",
      "CSS                  37\n",
      "TypeScript           37\n",
      "Dart                 36\n",
      "C++                  29\n",
      "Jupyter Notebook     29\n",
      "Ruby                 28\n",
      "C                    26\n",
      "Shell                25\n",
      "PHP                  16\n",
      "Go                   15\n",
      "Rust                 10\n",
      "Swift                10\n",
      "C#                    8\n",
      "Objective-C           8\n",
      "Kotlin                7\n",
      "Makefile              6\n",
      "Jinja                 5\n",
      "SCSS                  4\n",
      "CoffeeScript          3\n",
      "Perl                  3\n",
      "Dockerfile            3\n",
      "Solidity              3\n",
      "AutoHotkey            3\n",
      "Hack                  2\n",
      "Pawn                  2\n",
      "CodeQL                2\n",
      "PowerShell            2\n",
      "Assembly              2\n",
      "Vim Script            2\n",
      "Vue                   2\n",
      "Elixir                2\n",
      "Gherkin               1\n",
      "QMake                 1\n",
      "CMake                 1\n",
      "Oz                    1\n",
      "Cuda                  1\n",
      "QML                   1\n",
      "ActionScript          1\n",
      "Roff                  1\n",
      "HCL                   1\n",
      "R                     1\n",
      "PureBasic             1\n",
      "Smarty                1\n",
      "Less                  1\n",
      "Svelte                1\n",
      "Haskell               1\n",
      "SourcePawn            1\n",
      "Name: language, dtype: int64 \n",
      "\n",
      "替换缺失值后频数统计\n",
      " JavaScript          398\n",
      "Python              155\n",
      "HTML                 72\n",
      "Java                 44\n",
      "CSS                  37\n",
      "TypeScript           37\n",
      "Dart                 36\n",
      "Jupyter Notebook     29\n",
      "C++                  29\n",
      "Ruby                 28\n",
      "C                    26\n",
      "Shell                25\n",
      "PHP                  16\n",
      "Go                   15\n",
      "Rust                 10\n",
      "Swift                10\n",
      "C#                    8\n",
      "Objective-C           8\n",
      "Kotlin                7\n",
      "Makefile              6\n",
      "Jinja                 5\n",
      "SCSS                  4\n",
      "CoffeeScript          3\n",
      "Perl                  3\n",
      "Dockerfile            3\n",
      "Solidity              3\n",
      "AutoHotkey            3\n",
      "Hack                  2\n",
      "Pawn                  2\n",
      "CodeQL                2\n",
      "PowerShell            2\n",
      "Assembly              2\n",
      "Vim Script            2\n",
      "Vue                   2\n",
      "Elixir                2\n",
      "Gherkin               1\n",
      "QMake                 1\n",
      "CMake                 1\n",
      "Oz                    1\n",
      "Cuda                  1\n",
      "QML                   1\n",
      "ActionScript          1\n",
      "Roff                  1\n",
      "HCL                   1\n",
      "R                     1\n",
      "PureBasic             1\n",
      "Smarty                1\n",
      "Less                  1\n",
      "Svelte                1\n",
      "Haskell               1\n",
      "SourcePawn            1\n",
      "Name: language, dtype: int64 \n",
      "\n"
     ]
    }
   ],
   "source": [
    "data_upda = data.fillna(\"JavaScript\")\n",
    "print(\"处理方法二：用最高频率值来填补缺失值\")\n",
    "print(\"替换缺失值前的数据集⼤⼩: \",data.shape)\n",
    "print(\"替换缺失值后的数据集⼤⼩: \", data_upda.shape)\n",
    "print(\"将缺失部分剔除后缺失值统计：\", data_upda.isnull().sum(), \"个\")\n",
    "counts = data.value_counts()\n",
    "counts_upda = data_upda.value_counts()\n",
    "print(\"替换缺失值前频数统计\\n\", counts, \"\\n\")\n",
    "print(\"替换缺失值后频数统计\\n\", counts_upda, \"\\n\")"
   ]
  },
  {
   "cell_type": "markdown",
   "metadata": {},
   "source": [
    "2 对MovieLens 10M Dataset数据集进行处理\n",
    "\n",
    "2.1 数据摘要和可视化\n",
    "\n",
    "2.1.1数据摘要\n",
    "\n",
    "（1）标称属性： 标称属性，给出每个可能取值的频数，包括电影名称title、电影类型genres、用户编码userID、评价标签tag"
   ]
  },
  {
   "cell_type": "code",
   "execution_count": 7,
   "metadata": {},
   "outputs": [],
   "source": [
    "import numpy as np\n",
    "import pandas as pd\n",
    "from pandas import DataFrame\n",
    "\n",
    "def loader():   #读取数据\n",
    "    filepath =\"./datasets/MovieLens_10M_Dataset\" #使用的数据集文件地址\n",
    "    movies_df = pd.read_csv( filepath + \"/movies.dat\", sep='::', names=['movieId', 'title', 'genres'], engine='python')\n",
    "    ratings_df = pd.read_csv(filepath + \"/ratings.dat\", sep='::', names=['userId', 'movieId', 'rating', 'timestamp'], engine='python')\n",
    "    tags_df = pd.read_csv(filepath + \"/tags.dat\", sep='::', names=['userId', 'movieId', 'tag', 'timestamp'], engine='python')\n",
    "    return movies_df, ratings_df, tags_df\n",
    "\n",
    "def count(str,data): #输出标称属性频数\n",
    "    return data[str].value_counts()\n",
    "\n",
    "movies_df, ratings_df, tags_df = loader()"
   ]
  },
  {
   "cell_type": "code",
   "execution_count": 8,
   "metadata": {},
   "outputs": [
    {
     "name": "stdout",
     "output_type": "stream",
     "text": [
      "电影名称频数统计: \n",
      " War of the Worlds (2005)                                                2\n",
      "Last Tycoon, The (1976)                                                 1\n",
      "Money for Nothing (1993)                                                1\n",
      "Silencers, The (1966)                                                   1\n",
      "Where Angels Go, Trouble Follows (1968)                                 1\n",
      "                                                                       ..\n",
      "Anguish (Angustia) (1987)                                               1\n",
      "Blood Spattered Bride, The (La Novia Ensangrentada) (1972)              1\n",
      "City of the Living Dead (Paura nella città dei morti viventi) (1980)    1\n",
      "Endless Summer, The (1966)                                              1\n",
      "Blackadder Back & Forth (1999)                                          1\n",
      "Name: title, Length: 10680, dtype: int64\n"
     ]
    }
   ],
   "source": [
    "# 电影名称\n",
    "print('电影名称频数统计: \\n', count('title', movies_df))"
   ]
  },
  {
   "cell_type": "markdown",
   "metadata": {},
   "source": [
    "从输出结果可以看出，只有War of the Worlds (2005)存在重复，其他均无重复"
   ]
  },
  {
   "cell_type": "code",
   "execution_count": 9,
   "metadata": {},
   "outputs": [
    {
     "name": "stdout",
     "output_type": "stream",
     "text": [
      "电影类型: \n",
      " Drama                 5339\n",
      "Comedy                3703\n",
      "Thriller              1706\n",
      "Romance               1685\n",
      "Action                1473\n",
      "Crime                 1118\n",
      "Adventure             1025\n",
      "Horror                1013\n",
      "Sci-Fi                 754\n",
      "Fantasy                543\n",
      "Children               528\n",
      "War                    511\n",
      "Mystery                509\n",
      "Documentary            482\n",
      "Musical                436\n",
      "Animation              286\n",
      "Western                275\n",
      "Film-Noir              148\n",
      "IMAX                    29\n",
      "(no genres listed)       1\n",
      "dtype: int64\n"
     ]
    }
   ],
   "source": [
    "# 电影类型数据摘要\n",
    "genres = movies_df['genres'].str.split('|', expand=True).unstack().dropna()\n",
    "print('电影类型: \\n', genres.value_counts())"
   ]
  },
  {
   "cell_type": "markdown",
   "metadata": {},
   "source": [
    "从输出结果可以看出，数据集中电影类型数量排列前三的依次是Drama、Comedy、Thriller,还有一部电影未列出电影类型"
   ]
  },
  {
   "cell_type": "code",
   "execution_count": 10,
   "metadata": {},
   "outputs": [
    {
     "name": "stdout",
     "output_type": "stream",
     "text": [
      "评分表里用户ID频数统计: \n",
      " 59269    7359\n",
      "67385    7047\n",
      "14463    5169\n",
      "68259    4483\n",
      "27468    4449\n",
      "         ... \n",
      "8773       20\n",
      "54021      20\n",
      "8789       20\n",
      "12650      20\n",
      "16401      20\n",
      "Name: userId, Length: 69878, dtype: int64\n",
      "\n",
      "标签表里用户ID频数统计: \n",
      " 10555    6012\n",
      "23388    5811\n",
      "23172    4034\n",
      "33384    3632\n",
      "52723    1747\n",
      "         ... \n",
      "35568       1\n",
      "35553       1\n",
      "35543       1\n",
      "35462       1\n",
      "35438       1\n",
      "Name: userId, Length: 4009, dtype: int64\n"
     ]
    }
   ],
   "source": [
    "# 用户ID\n",
    "print('评分表里用户ID频数统计: \\n', count('userId', ratings_df))\n",
    "print()\n",
    "print('标签表里用户ID频数统计: \\n', count('userId', tags_df))"
   ]
  },
  {
   "cell_type": "code",
   "execution_count": 11,
   "metadata": {},
   "outputs": [
    {
     "name": "stdout",
     "output_type": "stream",
     "text": [
      "标签tag频数统计: \n",
      " Tumey's DVDs                    641\n",
      "classic                         621\n",
      "based on a book                 549\n",
      "R                               518\n",
      "less than 300 ratings           505\n",
      "                               ... \n",
      "Shane Black                       1\n",
      "Michael Winterbottom              1\n",
      "I can't turn away                 1\n",
      "though I know I should . . .      1\n",
      "a old story of fight              1\n",
      "Name: tag, Length: 16528, dtype: int64\n"
     ]
    }
   ],
   "source": [
    "print('标签tag频数统计: \\n', count('tag', tags_df))"
   ]
  },
  {
   "cell_type": "markdown",
   "metadata": {},
   "source": [
    "从输出结果可以看出，数据集中电影标签tag频数排列前三的依次是Tumey's DVDs、classic、based on a book"
   ]
  },
  {
   "cell_type": "markdown",
   "metadata": {},
   "source": [
    "(2)数值属性：数值属性，给出5数概括及缺失值的个数，包括rating打分、timestamp时间戳"
   ]
  },
  {
   "cell_type": "code",
   "execution_count": 12,
   "metadata": {},
   "outputs": [
    {
     "name": "stdout",
     "output_type": "stream",
     "text": [
      "评分rating:\n",
      "缺省值null个数:0\n"
     ]
    },
    {
     "name": "stdout",
     "output_type": "stream",
     "text": [
      "Minimum: 0.5\n",
      "Q1: 3.0\n",
      "Median: 4.0\n",
      "Q3: 4.0\n",
      "Maximum: 5.0\n"
     ]
    }
   ],
   "source": [
    "def fiveNumberandnull(str,data): #输出数值数据5数概括及缺失值的个数\n",
    "    nums = data[str]\n",
    "\n",
    "    # 缺失值的个数\n",
    "    nullnum = nums.isnull().sum()\n",
    "    print(\"缺省值null个数:%d\"%(nullnum))\n",
    "\n",
    "    # 五数概括 Minimum（最小值）、Q1、Median（中位数、）、Q3、Maximum（最大值）\n",
    "    nums = nums.dropna(axis = 0) #删除NaN值\n",
    "    Minimum = min(nums)\n",
    "    Maximum = max(nums)\n",
    "    Q1 = np.percentile(nums, 25)\n",
    "    Median = np.median(nums)\n",
    "    Q3 = np.percentile(nums, 75)\n",
    "    print(\"Minimum:\", Minimum)\n",
    "    print(\"Q1:\", Q1)\n",
    "    print(\"Median:\", Median)\n",
    "    print(\"Q3:\", Q3)\n",
    "    print(\"Maximum:\",Maximum)\n",
    "\n",
    "print(\"评分rating:\")\n",
    "fiveNumberandnull(\"rating\", ratings_df)"
   ]
  },
  {
   "cell_type": "code",
   "execution_count": 13,
   "metadata": {},
   "outputs": [
    {
     "name": "stdout",
     "output_type": "stream",
     "text": [
      "时间戳timestamp:\n",
      "缺省值null个数:0\n",
      "Minimum: 789652009\n",
      "Q1: 946765880.0\n",
      "Median: 1035476481.0\n",
      "Q3: 1126749070.75\n",
      "Maximum: 1231131736\n"
     ]
    }
   ],
   "source": [
    "print(\"时间戳timestamp:\")\n",
    "fiveNumberandnull(\"timestamp\", ratings_df)"
   ]
  },
  {
   "cell_type": "markdown",
   "metadata": {},
   "source": [
    "从输出结果可以看出，评分rating、数据戳timestamp均没有缺省值"
   ]
  },
  {
   "cell_type": "markdown",
   "metadata": {},
   "source": [
    "1.1.2 数据可视化\n",
    "\n",
    "使用直方图、盒图等检查数据分布及离群点\n",
    "\n",
    "这里主要对用户对电影的评分rating进行制作直方图、盒图分析数据分布"
   ]
  },
  {
   "cell_type": "code",
   "execution_count": 14,
   "metadata": {},
   "outputs": [
    {
     "data": {
      "image/png": "[encoded data removed]",
      "text/plain": [
       "<Figure size 432x288 with 1 Axes>"
      ]
     },
     "metadata": {
      "needs_background": "light"
     },
     "output_type": "display_data"
    },
    {
     "data": {
      "image/png": "[encoded data removed]",
      "text/plain": [
       "<Figure size 432x288 with 1 Axes>"
      ]
     },
     "metadata": {
      "needs_background": "light"
     },
     "output_type": "display_data"
    }
   ],
   "source": [
    "import matplotlib.pyplot as plt\n",
    "\n",
    "plt.hist(ratings_df['rating'])\n",
    "plt.xlabel('rating')\n",
    "plt.ylabel('Count')\n",
    "plt.title('histogram')\n",
    "plt.show()\n",
    "\n",
    "plt.boxplot(ratings_df['rating'])\n",
    "plt.xlabel('rating')\n",
    "plt.title('Box')\n",
    "plt.show()\n"
   ]
  },
  {
   "cell_type": "markdown",
   "metadata": {},
   "source": [
    "从输出的直方图和盒图可以看出，用户评分rating大部分位于3-4的区间，另外评分低于2分的数量相对较少"
   ]
  },
  {
   "cell_type": "markdown",
   "metadata": {},
   "source": [
    "1.2 数据缺失的处理\n",
    "\n",
    "观察数据集中缺失数据，分析其缺失的原因。分别使用下列四种策略对缺失值进行处理:\n",
    "\n",
    "·将缺失部分剔除\n",
    "\n",
    "·用最高频率值来填补缺失值\n",
    "\n",
    "\n",
    "注意：在处理后完成，要对比新旧数据集的差异。\n",
    "\n",
    "\n",
    "\n"
   ]
  },
  {
   "cell_type": "markdown",
   "metadata": {},
   "source": [
    "经过统计，在这个数据集中，只有电影标签tag存在缺失数据的现象"
   ]
  },
  {
   "cell_type": "code",
   "execution_count": 15,
   "metadata": {},
   "outputs": [
    {
     "name": "stdout",
     "output_type": "stream",
     "text": [
      "tag中的缺失值数量：  16 \n",
      "\n",
      "Tumey's DVDs                    641\n",
      "classic                         621\n",
      "based on a book                 549\n",
      "R                               518\n",
      "less than 300 ratings           505\n",
      "                               ... \n",
      "Shane Black                       1\n",
      "Michael Winterbottom              1\n",
      "I can't turn away                 1\n",
      "though I know I should . . .      1\n",
      "a old story of fight              1\n",
      "Name: tag, Length: 16528, dtype: int64\n"
     ]
    }
   ],
   "source": [
    "# 统计缺失值数量\n",
    "tag = tags_df['tag']\n",
    "null_num = tag.isnull().sum()\n",
    "print(\"tag中的缺失值数量： \", null_num, \"\\n\")\n",
    "\n",
    "# 统计频数\n",
    "counts = tag.value_counts()\n",
    "print(counts)"
   ]
  },
  {
   "cell_type": "markdown",
   "metadata": {},
   "source": [
    "处理方法一：将缺失部分剔除"
   ]
  },
  {
   "cell_type": "code",
   "execution_count": 16,
   "metadata": {},
   "outputs": [
    {
     "name": "stdout",
     "output_type": "stream",
     "text": [
      "处理方法一：将缺失部分剔除\n",
      "剔除缺失值前的数据集⼤⼩:  (95580,)\n",
      "剔除缺失值后的数据集⼤⼩:  (95564,)\n",
      "将缺失部分剔除后缺失值统计： 0\n"
     ]
    }
   ],
   "source": [
    "#将缺失部分剔除；\n",
    "tag_dele = tag.dropna()\n",
    "print(\"处理方法一：将缺失部分剔除\")\n",
    "print(\"剔除缺失值前的数据集⼤⼩: \",tag.shape)\n",
    "print(\"剔除缺失值后的数据集⼤⼩: \", tag_dele.shape)\n",
    "print(\"将缺失部分剔除后缺失值统计：\", tag_dele.isnull().sum())"
   ]
  },
  {
   "cell_type": "markdown",
   "metadata": {},
   "source": [
    "处理方法二：用最高频率值来填补缺失值"
   ]
  },
  {
   "cell_type": "code",
   "execution_count": 17,
   "metadata": {},
   "outputs": [
    {
     "name": "stdout",
     "output_type": "stream",
     "text": [
      "替换缺失值前的数据集⼤⼩:  (95580,)\n",
      "替换缺失值后的数据集⼤⼩:  (95580,)\n",
      "将缺失部分剔除后缺失值统计： 0 个\n",
      "替换缺失值前频数统计\n",
      " Tumey's DVDs                    641\n",
      "classic                         621\n",
      "based on a book                 549\n",
      "R                               518\n",
      "less than 300 ratings           505\n",
      "                               ... \n",
      "Shane Black                       1\n",
      "Michael Winterbottom              1\n",
      "I can't turn away                 1\n",
      "though I know I should . . .      1\n",
      "a old story of fight              1\n",
      "Name: tag, Length: 16528, dtype: int64 \n",
      "\n",
      "替换缺失值后频数统计\n",
      " Tumey's DVDs                    657\n",
      "classic                         621\n",
      "based on a book                 549\n",
      "R                               518\n",
      "less than 300 ratings           505\n",
      "                               ... \n",
      "Shane Black                       1\n",
      "Michael Winterbottom              1\n",
      "I can't turn away                 1\n",
      "though I know I should . . .      1\n",
      "a old story of fight              1\n",
      "Name: tag, Length: 16528, dtype: int64 \n",
      "\n"
     ]
    }
   ],
   "source": [
    "tag_upda = tag.fillna(\"Tumey's DVDs\")\n",
    "print(\"替换缺失值前的数据集⼤⼩: \",tag.shape)\n",
    "print(\"替换缺失值后的数据集⼤⼩: \", tag_upda.shape)\n",
    "print(\"将缺失部分剔除后缺失值统计：\", tag_upda.isnull().sum(), \"个\")\n",
    "counts = tag.value_counts()\n",
    "counts_upda = tag_upda.value_counts()\n",
    "print(\"替换缺失值前频数统计\\n\", counts, \"\\n\")\n",
    "print(\"替换缺失值后频数统计\\n\", counts_upda, \"\\n\")"
   ]
  }
 ],
 "metadata": {
  "kernelspec": {
   "display_name": "envs_pytorch",
   "language": "python",
   "name": "python3"
  },
  "language_info": {
   "codemirror_mode": {
    "name": "ipython",
    "version": 3
   },
   "file_extension": ".py",
   "mimetype": "text/x-python",
   "name": "python",
   "nbconvert_exporter": "python",
   "pygments_lexer": "ipython3",
   "version": "3.8.10"
  }
 },
 "nbformat": 4,
 "nbformat_minor": 2
}
